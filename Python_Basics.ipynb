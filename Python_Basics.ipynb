{
  "nbformat": 4,
  "nbformat_minor": 0,
  "metadata": {
    "colab": {
      "provenance": []
    },
    "kernelspec": {
      "name": "python3",
      "display_name": "Python 3"
    },
    "language_info": {
      "name": "python"
    }
  },
  "cells": [
    {
      "cell_type": "markdown",
      "source": [
        "# Python Basics\n"
      ],
      "metadata": {
        "id": "lV4GbDVnSN4w"
      }
    },
    {
      "cell_type": "code",
      "source": [
        "# What is Python, and why is it popular?\n",
        "'''\n",
        "- Python is a high-level, interpreted, general-purpose programming language. It's known for its clear syntax and code readability, which emphasizes a simple and logical approach to programming.\n",
        "- Python's popularity stems from several key factors:\n",
        "\n",
        "1. Readability and Simplicity\n",
        "2. Versatility and Applications\n",
        "3. Extensive Libraries and Frameworks\n",
        "4. Large and Active Community\n",
        "5. Corporate Support\n",
        "'''\n",
        "\n",
        "# What is an interpreter in Python?\n",
        "'''\n",
        "- An interpreter in Python is a program that directly executes the Python code, line by line, without needing to first compile the entire program into machine code.\n",
        "- The interpreter is the core component that makes Python an interpreted language. Here's a breakdown of its function:\n",
        "\n",
        "Read and Execute: The interpreter reads the Python source code statement by statement.\n",
        "\n",
        "Conversion to Bytecode: Each statement is first translated into an intermediate representation called bytecode (or \"p-code\"). This bytecode is a low-level, platform-independent set of instructions.\n",
        "\n",
        "Execution by PVM: The bytecode is then executed by the Python Virtual Machine (PVM), which is the runtime engine of the Python interpreter. The PVM handles memory management, garbage collection, and interfacing with the underlying operating system.\n",
        "'''\n",
        "\n",
        "# What are pre-defined keywords in Python?\n",
        "'''\n",
        "- Python's pre-defined keywords, also known as reserved words, are special identifiers that the interpreter uses to recognize the structure and syntax of the Python language.\n",
        "  They are integral to defining the program's logic and flow and cannot be used as names for variables, functions, classes, or any other user-defined identifier.\n",
        "- there are 35 reserved keywords. They are all in lowercase, except for True, False, and None.\n",
        "  Control Flow & Structure,Value & Type Handling,Function & Class Definitions,Error & Module Handling,Asynchronous Programming\n",
        "\n",
        "- Common Keyword Categories and Their Purpose\n",
        "1. Control Flow\n",
        "These keywords are used to manage the order in which statements are executed:\n",
        "\n",
        "if, elif, else: For conditional execution.\n",
        "\n",
        "for, while: For loop iteration.\n",
        "\n",
        "break: To exit a loop immediately.\n",
        "\n",
        "continue: To skip the rest of the current loop iteration and move to the next.\n",
        "\n",
        "2. Logical and Boolean Values\n",
        "These are used for comparison and logical operations:\n",
        "\n",
        "True, False: The two constant Boolean values.\n",
        "\n",
        "and, or, not: Logical operators.\n",
        "\n",
        "3. Defining Structure\n",
        "These are used to define blocks of code, functions, and data structures:\n",
        "\n",
        "def: Used to define a function or method.\n",
        "\n",
        "class: Used to define a new class (for Object-Oriented Programming).\n",
        "\n",
        "return: Used to exit a function and return a value.\n",
        "\n",
        "4. Special Identifiers\n",
        "None: A constant representing the absence of a value (similar to null in other languages).\n",
        "\n",
        "lambda: Used to create small, anonymous functions.\n",
        "\n",
        "5. Scope and Variables\n",
        "global: Declares a variable inside a function to be a global variable.\n",
        "\n",
        "nonlocal: Declares a variable inside a nested function to refer to a variable in the nearest enclosing (but not global) scope.\n",
        "\n",
        "'''\n",
        "\n",
        "# Can keywords be used as variable names?\n",
        "'''\n",
        "- No, keywords (reserved words) in Python cannot be used as variable names, function names, class names, or any other user-defined identifiers.\n",
        "\n",
        "- The Python interpreter uses these words to understand the structure and logic of your code (e.g., if, while, def, class). If you tried to use them as a variable name, the interpreter would get confused and throw a SyntaxError.\n",
        "\n",
        "- For example, trying to assign a value to the keyword for will result in an error:\n",
        "\n",
        "Python\n",
        "\n",
        "# This code will produce a SyntaxError\n",
        "for = 10\n",
        "print(for)\n",
        "\n",
        "'''\n",
        "\n",
        "# What is mutability in Python?\n",
        "'''\n",
        "- Mutability in Python refers to whether the state (the value or content) of an object can be changed after it has been created.\n",
        "  An object is classified as either mutable or immutable. This characteristic dictates how the object is handled in memory, especially when passed to functions or when aliases (multiple names) refer to it.\n",
        "\n",
        "1. Mutable Objects 🔄\n",
        "A mutable object is one whose value can be altered in place without creating a new object.\n",
        "\n",
        "Key Behavior: When you modify a mutable object, its unique memory address (ID) remains the same.\n",
        "\n",
        "Examples of Mutable Types:\n",
        "\n",
        "Lists ([])\n",
        "\n",
        "Dictionaries ({})\n",
        "\n",
        "Sets (set())\n",
        "\n",
        "User-defined classes (most objects)\n",
        "\n",
        "Example:\n",
        "\n",
        "Python\n",
        "\n",
        "my_list = [1, 2, 3]\n",
        "print(id(my_list))  # E.g., 43015488\n",
        "# Modify the list\n",
        "my_list.append(4)\n",
        "print(my_list)      # Output: [1, 2, 3, 4]\n",
        "print(id(my_list))  # Output: 43015488 (ID remains the SAME)\n",
        "'''\n",
        "\n",
        "# Why are lists mutable, but tuples are immutable?\n",
        "'''\n",
        "- Lists are mutable because they are designed to be dynamic containers that frequently need to be changed after creation,\n",
        "  while tuples are immutable because they are designed for data integrity, efficiency, and use in contexts that require fixed, unchangeable data.\n",
        "\n",
        "- Design Intent and Purpose\n",
        "The difference in mutability reflects the distinct roles each data structure plays in Python programming:\n",
        "\n",
        "Lists (Mutable) 🔄\n",
        "Primary Purpose: To serve as flexible, general-purpose sequences (like dynamic arrays) where elements are often added, removed, or modified after the list is created.\n",
        "\n",
        "Implementation: They are optimized for in-place modification. Operations like append(), insert(), and pop() directly alter the existing list object in memory, allowing them to function efficiently as stacks, queues, and general data collectors.\n",
        "\n",
        "Tuples (Immutable) 🔒\n",
        "Primary Purpose: To represent a fixed, related grouping of data (a \"record\" or structure, e.g., a color as (R, G, B) or a geographical coordinate as (latitude, longitude)). Their immutability ensures the data integrity of these groupings.\n",
        "\n",
        "\n",
        "Benefits of Immutability:\n",
        "\n",
        "Data Safety: Guarantees that the contained data will not be accidentally or intentionally altered during program execution.\n",
        "\n",
        "Hashing: Because their contents are fixed, tuples can be hashed and therefore used as keys in a dictionary and elements in a set (which lists cannot).\n",
        "\n",
        "Performance: Being immutable allows Python to make performance and memory optimizations; tuples are generally faster to iterate over and access than lists.\n",
        "\n",
        "- Mutability and ContentsIt's important to clarify that immutability applies only to the container (the tuple itself), not to its contents.\n",
        "  If a tuple contains a mutable object (like a list), you cannot reassign an element of the tuple, but you can modify the contents of the mutable object inside the tuple:ActionList Example (Mutable)Tuple Example (Immutable)Change Element$\\checkmark$ my_list[0] = 5$\\times$ my_tuple[0] = 5 (Throws Error)Add Element$\\checkmark$ my_list.append(6)$\\times$ my_tuple += (6,) (Creates a new tuple)Change Mutable Content insideN/A$\\checkmark$ my_tuple_of_lists[0].append(4)\n",
        "'''\n",
        "\n",
        "# What is the difference between “==” and “is” operators in Python?\n",
        "'''\n",
        "- The fundamental difference between the == and is operators in Python is what they compare:\n",
        "\n",
        "- == compares the value of two objects (equality).\n",
        "\n",
        "- is compares the identity of two objects (same object in memory).\n",
        "\n",
        "- 1. The == Operator (Value Equality)\n",
        "The == operator tests for value equality. It checks if the objects referred to by the two operands have the same contents or value.\n",
        "\n",
        "What it Compares: The results of the object's __eq__() method.\n",
        "\n",
        "When it Returns True: When two variables point to objects that are considered equal in value, even if they are stored in different memory locations.\n",
        "\n",
        "Example:\n",
        "Python\n",
        "\n",
        "list_a = [1, 2, 3]\n",
        "list_b = [1, 2, 3]\n",
        "\n",
        "print(list_a == list_b)  # Output: True (They have the same elements/value)\n",
        "\n",
        "- The is Operator (Identity)\n",
        "The is operator tests for object identity. It checks if the two operands refer to the exact same object in memory.\n",
        "\n",
        "What it Compares: The unique memory address (ID) of the objects, which can be retrieved using the built-in id() function.\n",
        "\n",
        "When it Returns True: Only when two variables point to the very same object instance.\n",
        "\n",
        "Example:\n",
        "Python\n",
        "\n",
        "list_a = [1, 2, 3]\n",
        "list_b = [1, 2, 3]\n",
        "list_c = list_a  # list_c now points to the SAME object as list_a\n",
        "\n",
        "print(list_a is list_b)  # Output: False (They are two separate objects in memory)\n",
        "print(list_a is list_c)  # Output: True (They point to the same object)\n",
        "\n",
        "print(id(list_a)) # e.g., 4500\n",
        "print(id(list_b)) # e.g., 4504 (Different ID)\n",
        "print(id(list_c)) # e.g., 4500 (Same ID)\n",
        "'''\n",
        "\n",
        "# What are logical operators in Python?\n",
        "'''\n",
        "- Logical operators in Python are special keywords used to combine conditional statements (Boolean expressions) and determine the logical relationship between them.\n",
        "  They operate on Boolean values (True or False) and return a Boolean result.\n",
        "\n",
        "- The Three Logical Operators\n",
        "  Python has three main logical operators:\n",
        "\n",
        "- and\n",
        "\n",
        "The and operator returns True only if both operands (the conditions it combines) are True.\n",
        "If even one operand is False, the result is False.\n",
        "- A - TRUE, TRUE, FALSE, FALSE\n",
        "- B - TRUE, FALSE, TRUE, FALSE\n",
        "- A AND B - TRUE, FALSE, FALSE, FALSE\n",
        "\n",
        "Example:\n",
        "\n",
        "Python\n",
        "\n",
        "age = 25\n",
        "is_student = True\n",
        "# Check if a person is between 20 and 30 AND is a student\n",
        "result = (age > 20) and (age < 30) and is_student\n",
        "# (True) and (True) and (True)  -> True\n",
        "\n",
        "- or\n",
        "\n",
        "- The or operator returns True if at least one of the operands is True. It only returns False if both operands are False.\n",
        "- A - TRUE, TRUE, FALSE, FALSE\n",
        "- B - TRUE, FALSE, TRUE, FALSE\n",
        "- A OR B - TRUE, TRUE, TRUE, FALSE\n",
        "\n",
        "Example:\n",
        "\n",
        "Python\n",
        "\n",
        "day = \"Sunday\"\n",
        "temperature = 35\n",
        "# Check if it's the weekend OR the temperature is high\n",
        "result = (day == \"Saturday\") or (day == \"Sunday\") or (temperature > 30)\n",
        "# (False) or (True) or (True) -> True\n",
        "\n",
        "- not\n",
        "\n",
        "- The not operator is a unary operator (it takes only one operand). It simply inverts the Boolean value of its operand.\n",
        "- A - TRUE, FALSE\n",
        "- not A - FALSE, TRUE\n",
        "\n",
        "Example:\n",
        "\n",
        "Python\n",
        "\n",
        "is_raining = False\n",
        "# Check if it is NOT raining\n",
        "result = not is_raining\n",
        "# not (False) -> True\n",
        "'''\n",
        "\n",
        "# What is type casting in Python?\n",
        "'''\n",
        "- Type casting (or type conversion) in Python is the process of converting a variable or value from one data type to another.\n",
        "  This is often necessary when you need to use a variable in a context that requires a specific data type, such as performing arithmetic on a string that represents a number.\n",
        "\n",
        "- How Type Casting Works\n",
        "\n",
        "- Python provides several built-in functions that allow you to explicitly perform type casting:\n",
        "\n",
        "- int(): Converts to an integer.\n",
        "\n",
        "- float(): Converts to a floating-point number.\n",
        "\n",
        "- str(): Converts to a string.\n",
        "\n",
        "- list(): Converts to a list (e.g., from a tuple or string).\n",
        "\n",
        "- tuple(): Converts to a tuple.\n",
        "\n",
        "- bool(): Converts to a Boolean (True or False).\n",
        "\n",
        "Examples of Explicit Casting\n",
        "\n",
        "- CONVERSION              EXAMPLE             RESULT\n",
        "- STRING TO INTEGER       int(\"123\")          123 (integer)\n",
        "- FLOAT TO INTEGER        int(5.99)           5 (integer,truncates the decimal)\n",
        "- INTEGER TO FLOAT        float(10)           10.0 (float)\n",
        "- INTEGER TO STRING       str(2025)           \"2025\" (string)\n",
        "- TUPLE TO LIST           list((1, 2, 3))     [1, 2, 3] (list)\n",
        "'''\n",
        "\n",
        "# What is the difference between implicit and explicit type casting?\n",
        "'''\n",
        "- The difference between implicit and explicit type casting lies in who performs the conversion and the potential for data loss:\n",
        "\n",
        "-  Implicit Type Casting (Automatic Coercion) is done automatically by the Python interpreter to prevent data loss.\n",
        "\n",
        "-  Explicit Type Casting (Type Conversion) is done manually by the programmer using built-in functions, and it may result in data loss.\n",
        "\n",
        "- Implicit Type Casting\n",
        "\n",
        "  Implicit conversion happens when Python automatically converts one data type to another without the programmer's involvement.\n",
        "\n",
        "- Who Performs it: The Python interpreter.\n",
        "\n",
        "- Goal: To avoid data loss and ensure compatibility, particularly when mixing numeric types in mathematical expressions.\n",
        "\n",
        "- Rule: Python converts the \"smaller\" or \"less expressive\" type (like int) into the \"larger\" or \"more expressive\" type (like float).\n",
        "\n",
        "Example:\n",
        "Python\n",
        "\n",
        "num_int = 10     # int\n",
        "num_float = 5.5  # float\n",
        "\n",
        "result = num_int + num_float  # Implicit conversion: 10 is converted to 10.0\n",
        "# The result is 15.5, and its type is float.\n",
        "\n",
        "- Explicit Type Casting\n",
        "  Explicit conversion, or type conversion, is when the programmer manually changes the data type of an object using casting functions.\n",
        "\n",
        "- Who Performs it: The programmer.\n",
        "\n",
        "- Goal: To force a value into a required type for specific operations (e.g., converting a user input string to a number for calculation).\n",
        "\n",
        "- Risk: Can lead to data loss or precision loss (e.g., converting a float to an int truncates the decimal).\n",
        "\n",
        "Example:\n",
        "Python\n",
        "\n",
        "num_float = 9.81  # float\n",
        "\n",
        "# Explicit conversion: The programmer forces the change\n",
        "num_int = int(num_float)\n",
        "\n",
        "print(num_int)  # Output: 9\n",
        "# Data Loss occurred: the .81 part of the float was truncated (lost).\n",
        "'''\n",
        "\n",
        "# What is the purpose of conditional statements in Python?\n",
        "'''\n",
        "- The purpose of conditional statements in Python is to control the flow of execution in a program based on specific conditions being met.\n",
        "  They allow the program to make decisions, execute certain blocks of code, and skip others, depending on whether a given Boolean expression evaluates to True or False.\n",
        "\n",
        "- Key Roles of Conditional Statements\n",
        "\n",
        "- Conditional statements are essential for creating dynamic and functional programs. The primary keywords used are if, elif (else if), and else.\n",
        "\n",
        "- Decision Making\n",
        "They allow a program to choose between two or more paths of action.\n",
        "\n",
        "Example: If a user is logged in, show their profile; else (if they are not logged in), show the login page.\n",
        "\n",
        "- Guarding Code Execution\n",
        "They are used to ensure a block of code only runs when certain prerequisites are met, often to prevent errors.\n",
        "\n",
        "Example: If a list is not empty, perform an operation on its first element; else, print a message that the list is empty. This prevents an IndexError.\n",
        "\n",
        "- Handling Different Scenarios\n",
        "They enable the program to respond differently to a range of input values or states.\n",
        "\n",
        "Example: If the score is 90 or above, assign an 'A'; elif the score is 80 or above, assign a 'B'; else, assign a 'C'.\n",
        "\n",
        "Input Validation\n",
        "They check whether user input conforms to expected rules before the data is processed.\n",
        "\n",
        "Example: If the user's entered age is less than 18, reject the registration; else, proceed.\n",
        "\n",
        "By using conditional statements, programmers can create algorithms that behave intelligently and respond logically to changing data and circumstances.\n",
        "'''\n",
        "\n",
        "# How does the elif statement work?\n",
        "'''\n",
        "- The elif statement (short for \"else if\") in Python is part of the conditional structure (if-elif-else).\n",
        "  Its primary function is to check an additional condition only if the preceding if condition (and any previous elif conditions) evaluated to False.\n",
        "\n",
        "- How elif Controls Flow\n",
        "- The if-elif-else structure works sequentially to find the first true condition:\n",
        "\n",
        "- if Check: The program first evaluates the expression in the initial if statement.\n",
        "\n",
        "- If it's True, the code block under the if runs, and the entire structure is skipped.\n",
        "\n",
        "- If it's False, the program proceeds to the next elif.\n",
        "\n",
        "- elif Check: The elif statement's expression is then evaluated.\n",
        "\n",
        "- If it's True, the code block under that elif runs, and the rest of the structure (including subsequent elifs and the final else) is skipped.\n",
        "\n",
        "- If it's False, the program proceeds to the next elif or the final else.\n",
        "\n",
        "- Multiple elifs: You can include any number of elif statements to handle multiple scenarios.\n",
        "\n",
        "- else (Optional): If all if and elif conditions are False, the code block under the optional else statement is executed.\n",
        "\n",
        "\n",
        "Structure Example:\n",
        "Python\n",
        "\n",
        "score = 85\n",
        "\n",
        "if score >= 90:\n",
        "    print(\"Grade A\")  # Condition 1\n",
        "elif score >= 80:\n",
        "    print(\"Grade B\")  # Condition 2 (Checked only if Condition 1 is False)\n",
        "elif score >= 70:\n",
        "    print(\"Grade C\")  # Condition 3 (Checked only if 1 and 2 are False)\n",
        "else:\n",
        "    print(\"Needs Improvement\") # Executed only if all above are False\n",
        "\n",
        "- In the example above, since score >= 90 is False, the program moves to the elif. Since score >= 80 is True, it prints \"Grade B\" and skips the rest of the checks.\n",
        "'''\n",
        "\n",
        "#  What is the difference between for and while loops?\n",
        "'''\n",
        "- The difference between for and while loops in Python lies in how they determine when to stop iterating:\n",
        "\n",
        "- A for loop is used for definite iteration; it executes a block of code a fixed number of times or once for each item in a sequence.\n",
        "\n",
        "- A while loop is used for indefinite iteration; it executes a block of code as long as a specified condition is True.\n",
        "\n",
        "- For Loop (Definite Iteration)\n",
        "  The for loop is ideal when you know, or can determine, the exact number of iterations needed.\n",
        "\n",
        "- Primary Use: Traversing elements in a sequence (like a list, tuple, string, or range).\n",
        "\n",
        "- Structure: It automatically handles iteration and the termination condition by exhausting the sequence.\n",
        "\n",
        "- Syntax Example:\n",
        "\n",
        "- Python\n",
        "\n",
        "# Iterates exactly 3 times, once for each item in the list\n",
        "for item in ['apple', 'banana', 'cherry']:\n",
        "    print(item)\n",
        "\n",
        "- While Loop (Indefinite Iteration) ⚙️\n",
        "The while loop is ideal when the number of iterations is unknown and depends on a condition being met (or broken) during execution.\n",
        "\n",
        "- Primary Use: Repeating code until a specific condition changes from True to False (e.g., getting valid user input, or processing data until a file's end is reached).\n",
        "- Structure: It requires a loop control variable (like a counter) to be initialized before the loop and updated inside the loop to ensure termination. If the condition is always True, it creates an infinite loop.\n",
        "- Syntax Example:\n",
        "\n",
        "- Python\n",
        "\n",
        "# Initializes a counter\n",
        "count = 0\n",
        "# Loop continues AS LONG AS 'count' is less than 3\n",
        "while count < 3:\n",
        "    print(count)\n",
        "    count += 1  # Updates the condition variable\n",
        "'''\n",
        "\n",
        "# Describe a scenario where a while loop is more suitable than a for loop?\n",
        "'''\n",
        "- A while loop is more suitable than a for loop when you need to repeat a block of code an unknown number of times,\n",
        "  where the loop's termination depends on an external condition or a value that changes dynamically during execution.\n",
        "\n",
        "- Scenario: Input Validation\n",
        "  A classic example where a while loop is superior is input validation, specifically when continuously prompting a user for input until they provide a valid response.\n",
        "\n",
        "- Why while is Better\n",
        "  The number of times the user will enter incorrect input is unpredictable. They might get it right on the first try, or they might make five mistakes.\n",
        "  A for loop, which runs for a predetermined count, cannot handle this uncertainty.\n",
        "'''\n",
        "\n",
        ""
      ],
      "metadata": {
        "colab": {
          "base_uri": "https://localhost:8080/",
          "height": 177
        },
        "id": "YSNx83AZS2GM",
        "outputId": "90b0ecdf-c601-4863-ff8c-1690954c20f9"
      },
      "execution_count": 1,
      "outputs": [
        {
          "output_type": "stream",
          "name": "stderr",
          "text": [
            "<>:146: SyntaxWarning: invalid escape sequence '\\c'\n",
            "<>:146: SyntaxWarning: invalid escape sequence '\\c'\n",
            "/tmp/ipython-input-1815093714.py:146: SyntaxWarning: invalid escape sequence '\\c'\n",
            "  If a tuple contains a mutable object (like a list), you cannot reassign an element of the tuple, but you can modify the contents of the mutable object inside the tuple:ActionList Example (Mutable)Tuple Example (Immutable)Change Element$\\checkmark$ my_list[0] = 5$\\times$ my_tuple[0] = 5 (Throws Error)Add Element$\\checkmark$ my_list.append(6)$\\times$ my_tuple += (6,) (Creates a new tuple)Change Mutable Content insideN/A$\\checkmark$ my_tuple_of_lists[0].append(4)\n"
          ]
        },
        {
          "output_type": "execute_result",
          "data": {
            "text/plain": [
              "\"\\n- A while loop is more suitable than a for loop when you need to repeat a block of code an unknown number of times, \\n  where the loop's termination depends on an external condition or a value that changes dynamically during execution.\\n\\n- Scenario: Input Validation\\n  A classic example where a while loop is superior is input validation, specifically when continuously prompting a user for input until they provide a valid response.\\n\\n- Why while is Better\\n  The number of times the user will enter incorrect input is unpredictable. They might get it right on the first try, or they might make five mistakes. \\n  A for loop, which runs for a predetermined count, cannot handle this uncertainty.\\n\""
            ],
            "application/vnd.google.colaboratory.intrinsic+json": {
              "type": "string"
            }
          },
          "metadata": {},
          "execution_count": 1
        }
      ]
    },
    {
      "cell_type": "markdown",
      "source": [
        "Practical Questions"
      ],
      "metadata": {
        "id": "0XxK7_icnnc-"
      }
    },
    {
      "cell_type": "code",
      "source": [
        "# Write a Python program to print \"Hello, World!\"\n",
        "print(\"Hello World!!\")"
      ],
      "metadata": {
        "colab": {
          "base_uri": "https://localhost:8080/"
        },
        "id": "QRETkQlOnuyB",
        "outputId": "03d4aca5-491a-4bb4-c0c5-0b33b4ca3859"
      },
      "execution_count": 4,
      "outputs": [
        {
          "output_type": "stream",
          "name": "stdout",
          "text": [
            "Hello World!!\n"
          ]
        }
      ]
    },
    {
      "cell_type": "code",
      "source": [
        "# Write a Python program that displays your name and age?\n",
        "my_name = \"BHANU\"\n",
        "my_age = 28\n",
        "\n",
        "print(f\"My_name is {my_name}\")\n",
        "print(f\"I am {my_age} year{'s' if my_age != 28 else''} old.\")\n"
      ],
      "metadata": {
        "colab": {
          "base_uri": "https://localhost:8080/"
        },
        "id": "SnQt3p2-qEKI",
        "outputId": "a3a5bf68-82df-443e-b354-cc53e87a0d5a"
      },
      "execution_count": 15,
      "outputs": [
        {
          "output_type": "stream",
          "name": "stdout",
          "text": [
            "My_name is BHANU\n",
            "I am 28 year old.\n"
          ]
        }
      ]
    },
    {
      "cell_type": "code",
      "source": [
        "# Write code to print all the pre-defined keywords in Python using the keyword library\n",
        "import keyword\n",
        "\n",
        "# Get list of all keywords\n",
        "kw_list = keyword.kwlist\n",
        "\n",
        "# Print each keyword\n",
        "for kw in kw_list:\n",
        "    print(kw)\n",
        "\n",
        "\n"
      ],
      "metadata": {
        "colab": {
          "base_uri": "https://localhost:8080/"
        },
        "id": "c9d4IPkcvtsz",
        "outputId": "8e568d42-5230-4608-e599-96c55d3325cb"
      },
      "execution_count": 30,
      "outputs": [
        {
          "output_type": "stream",
          "name": "stdout",
          "text": [
            "False\n",
            "None\n",
            "True\n",
            "and\n",
            "as\n",
            "assert\n",
            "async\n",
            "await\n",
            "break\n",
            "class\n",
            "continue\n",
            "def\n",
            "del\n",
            "elif\n",
            "else\n",
            "except\n",
            "finally\n",
            "for\n",
            "from\n",
            "global\n",
            "if\n",
            "import\n",
            "in\n",
            "is\n",
            "lambda\n",
            "nonlocal\n",
            "not\n",
            "or\n",
            "pass\n",
            "raise\n",
            "return\n",
            "try\n",
            "while\n",
            "with\n",
            "yield\n"
          ]
        }
      ]
    },
    {
      "cell_type": "code",
      "source": [
        "# Write a program that checks if a given word is a Python keyword.\n",
        "\n",
        "import keyword\n",
        "\n",
        "def is_python_keyword(word: str) -> bool:\n",
        "    \"\"\"\n",
        "    Returns True if the given word is a Python keyword, False otherwise.\n",
        "    \"\"\"\n",
        "    return keyword.iskeyword(word)\n",
        "\n",
        "if __name__ == \"__main__\":\n",
        "    w = input(\"Enter a word to check: \").strip()\n",
        "    if is_python_keyword(w):\n",
        "        print(f\"'{w}' **is** a Python keyword.\")\n",
        "    else:\n",
        "        print(f\"'{w}' is *not* a Python keyword.\")\n"
      ],
      "metadata": {
        "colab": {
          "base_uri": "https://localhost:8080/"
        },
        "id": "iYhSL-2E3wsH",
        "outputId": "39c36573-2798-4a41-ce6f-0bd97f3b8b1e"
      },
      "execution_count": 37,
      "outputs": [
        {
          "output_type": "stream",
          "name": "stdout",
          "text": [
            "Enter a word to check: not\n",
            "'not' **is** a Python keyword.\n"
          ]
        }
      ]
    },
    {
      "cell_type": "code",
      "source": [
        "# Create a list and tuple in Python, and demonstrate how attempting to change an element works differently for each.\n",
        "# Create a list and a tuple\n",
        "my_list   = [10, 20, 30]\n",
        "my_tuple  = (10, 20, 30)\n",
        "\n",
        "print(\"Original list:   \", my_list)\n",
        "print(\"Original tuple:  \", my_tuple)\n",
        "\n",
        "# Modify the second element (index 1) of the list\n",
        "my_list[1] = 200\n",
        "print(\"Modified list:   \", my_list)\n",
        "\n",
        "# Try to modify the second element of the tuple\n",
        "try:\n",
        "    my_tuple[1] = 200\n",
        "except TypeError as e:\n",
        "    print(\"Error when modifying tuple:\", e)\n"
      ],
      "metadata": {
        "colab": {
          "base_uri": "https://localhost:8080/"
        },
        "id": "TCCkvq394s1S",
        "outputId": "2d1a2ccf-6e60-4043-9f4d-00a43e54a20f"
      },
      "execution_count": 38,
      "outputs": [
        {
          "output_type": "stream",
          "name": "stdout",
          "text": [
            "Original list:    [10, 20, 30]\n",
            "Original tuple:   (10, 20, 30)\n",
            "Modified list:    [10, 200, 30]\n",
            "Error when modifying tuple: 'tuple' object does not support item assignment\n"
          ]
        }
      ]
    },
    {
      "cell_type": "code",
      "source": [
        "# Write a function to demonstrate the behavior of mutable and immutable arguments.\n",
        "def modify_immutable(x):\n",
        "    print(\"Inside modify_immutable: before =\", x, \"id =\", id(x))\n",
        "    x += 10\n",
        "    print(\"Inside modify_immutable: after  =\", x, \"id =\", id(x))\n",
        "\n",
        "def modify_mutable(lst):\n",
        "    print(\"Inside modify_mutable: before =\", lst, \"id =\", id(lst))\n",
        "    lst.append(\"new-item\")\n",
        "    print(\"Inside modify_mutable: after  =\", lst, \"id =\", id(lst))\n",
        "\n",
        "if __name__ == \"__main__\":\n",
        "    # Immutable example: integer\n",
        "    a = 5\n",
        "    print(\"Before calling modify_immutable: a =\", a, \"id =\", id(a))\n",
        "    modify_immutable(a)\n",
        "    print(\"After calling modify_immutable:  a =\", a, \"id =\", id(a))\n",
        "    print(\"-\" * 40)\n",
        "\n",
        "    # Mutable example: list\n",
        "    b = [\"item1\", \"item2\"]\n",
        "    print(\"Before calling modify_mutable:   b =\", b, \"id =\", id(b))\n",
        "    modify_mutable(b)\n",
        "    print(\"After calling modify_mutable:    b =\", b, \"id =\", id(b))"
      ],
      "metadata": {
        "colab": {
          "base_uri": "https://localhost:8080/"
        },
        "id": "UyeasX5Q5Y-r",
        "outputId": "554f17b8-aff3-43ac-94dd-13f170fc2e6d"
      },
      "execution_count": 41,
      "outputs": [
        {
          "output_type": "stream",
          "name": "stdout",
          "text": [
            "Before calling modify_immutable: a = 5 id = 11654504\n",
            "Inside modify_immutable: before = 5 id = 11654504\n",
            "Inside modify_immutable: after  = 15 id = 11654824\n",
            "After calling modify_immutable:  a = 5 id = 11654504\n",
            "----------------------------------------\n",
            "Before calling modify_mutable:   b = ['item1', 'item2'] id = 135320109135232\n",
            "Inside modify_mutable: before = ['item1', 'item2'] id = 135320109135232\n",
            "Inside modify_mutable: after  = ['item1', 'item2', 'new-item'] id = 135320109135232\n",
            "After calling modify_mutable:    b = ['item1', 'item2', 'new-item'] id = 135320109135232\n"
          ]
        }
      ]
    },
    {
      "cell_type": "code",
      "source": [
        "# Write a program that performs basic arithmetic operations on two user-input numbers.\n",
        "# Menu-based Arithmetic Operations Program\n",
        "\n",
        "print(\"=== Basic Arithmetic Calculator ===\")\n",
        "\n",
        "# Get user input\n",
        "num1 = float(input(\"Enter the first number: \"))\n",
        "num2 = float(input(\"Enter the second number: \"))\n",
        "\n",
        "# Display menu\n",
        "print(\"\\nSelect an operation to perform:\")\n",
        "print(\"1. Addition (+)\")\n",
        "print(\"2. Subtraction (-)\")\n",
        "print(\"3. Multiplication (×)\")\n",
        "print(\"4. Division (÷)\")\n",
        "\n",
        "# Get user's choice\n",
        "choice = input(\"\\nEnter your choice (1/2/3/4): \")\n",
        "\n",
        "# Perform operation based on choice\n",
        "if choice == '1':\n",
        "    result = num1 + num2\n",
        "    print(f\"\\nResult: {num1} + {num2} = {result}\")\n",
        "\n",
        "elif choice == '2':\n",
        "    result = num1 - num2\n",
        "    print(f\"\\nResult: {num1} - {num2} = {result}\")\n",
        "\n",
        "elif choice == '3':\n",
        "    result = num1 * num2\n",
        "    print(f\"\\nResult: {num1} × {num2} = {result}\")\n",
        "\n",
        "elif choice == '4':\n",
        "    if num2 != 0:\n",
        "        result = num1 / num2\n",
        "        print(f\"\\nResult: {num1} ÷ {num2} = {result}\")\n",
        "    else:\n",
        "        print(\"\\nError: Division by zero is not allowed.\")\n",
        "\n",
        "else:\n",
        "    print(\"\\nInvalid choice! Please select 1, 2, 3, or 4.\")\n"
      ],
      "metadata": {
        "colab": {
          "base_uri": "https://localhost:8080/"
        },
        "id": "kcN1FCMD5tnV",
        "outputId": "0889d92c-f20a-4a78-f63e-088e1ca8d3b0"
      },
      "execution_count": 47,
      "outputs": [
        {
          "output_type": "stream",
          "name": "stdout",
          "text": [
            "=== Basic Arithmetic Calculator ===\n",
            "Enter the first number: 9\n",
            "Enter the second number: 8\n",
            "\n",
            "Select an operation to perform:\n",
            "1. Addition (+)\n",
            "2. Subtraction (-)\n",
            "3. Multiplication (×)\n",
            "4. Division (÷)\n",
            "\n",
            "Enter your choice (1/2/3/4): 3\n",
            "\n",
            "Result: 9.0 × 8.0 = 72.0\n"
          ]
        }
      ]
    },
    {
      "cell_type": "code",
      "source": [
        "# Write a program to demonstrate the use of logical operators.\n",
        "# Program to demonstrate the use of logical operators\n",
        "\n",
        "# Get input from the user\n",
        "a = int(input(\"Enter the first number: \"))\n",
        "b = int(input(\"Enter the second number: \"))\n",
        "\n",
        "# Logical AND\n",
        "if a > 0 and b > 0:\n",
        "    print(\"Both numbers are positive.\")\n",
        "else:\n",
        "    print(\"At least one of the numbers is not positive.\")\n",
        "\n",
        "# Logical OR\n",
        "if a % 2 == 0 or b % 2 == 0:\n",
        "    print(\"At least one of the numbers is even.\")\n",
        "else:\n",
        "    print(\"Both numbers are odd.\")\n",
        "\n",
        "# Logical NOT\n",
        "if not (a == b):\n",
        "    print(\"The two numbers are not equal.\")\n",
        "else:\n",
        "    print(\"The two numbers are equal.\")\n"
      ],
      "metadata": {
        "colab": {
          "base_uri": "https://localhost:8080/"
        },
        "id": "ISG_57D76ox3",
        "outputId": "e074d943-9f94-4f7e-b50f-a8ad05e5aa3b"
      },
      "execution_count": 51,
      "outputs": [
        {
          "output_type": "stream",
          "name": "stdout",
          "text": [
            "Enter the first number: 33\n",
            "Enter the second number: 74\n",
            "Both numbers are positive.\n",
            "At least one of the numbers is even.\n",
            "The two numbers are not equal.\n"
          ]
        }
      ]
    },
    {
      "cell_type": "code",
      "source": [
        "# Write a Python program to convert user input from string to integer, float, and boolean types.\n",
        "# Program to convert user input from string to integer, float, and boolean\n",
        "\n",
        "# Get input from the user\n",
        "user_input = input(\"Enter a value: \")\n",
        "\n",
        "# Convert to integer\n",
        "try:\n",
        "    int_value = int(user_input)\n",
        "    print(f\"Integer value: {int_value}\")\n",
        "except ValueError:\n",
        "    print(\"Cannot convert to integer.\")\n",
        "\n",
        "# Convert to float\n",
        "try:\n",
        "    float_value = float(user_input)\n",
        "    print(f\"Float value: {float_value}\")\n",
        "except ValueError:\n",
        "    print(\"Cannot convert to float.\")\n",
        "\n",
        "# Convert to boolean\n",
        "# In Python, empty strings are False, all other strings are True\n",
        "bool_value = bool(user_input)\n",
        "print(f\"Boolean value: {bool_value}\")\n"
      ],
      "metadata": {
        "colab": {
          "base_uri": "https://localhost:8080/"
        },
        "id": "KWDM0d9H7Ooy",
        "outputId": "0a244788-8464-4927-a55d-1464fb6dc021"
      },
      "execution_count": 52,
      "outputs": [
        {
          "output_type": "stream",
          "name": "stdout",
          "text": [
            "Enter a value: 42\n",
            "Integer value: 42\n",
            "Float value: 42.0\n",
            "Boolean value: True\n"
          ]
        }
      ]
    },
    {
      "cell_type": "code",
      "source": [
        "# Write code to demonstrate type casting with list elements.\n",
        "# Program to demonstrate type casting with list elements\n",
        "\n",
        "# Original list of strings\n",
        "str_list = [\"10\", \"20\", \"30\", \"40.5\", \"50\"]\n",
        "\n",
        "print(\"Original list (strings):\", str_list)\n",
        "\n",
        "# Convert each element to integer (only if possible)\n",
        "int_list = []\n",
        "for item in str_list:\n",
        "    try:\n",
        "        int_list.append(int(float(item)))  # handle float-like strings (e.g., \"40.5\")\n",
        "    except ValueError:\n",
        "        int_list.append(None)  # if conversion fails\n",
        "print(\"List after converting to integers:\", int_list)\n",
        "\n",
        "# Convert each element to float\n",
        "float_list = [float(item) for item in str_list]\n",
        "print(\"List after converting to floats:\", float_list)\n",
        "\n",
        "# Convert each element to boolean\n",
        "# (empty string = False, non-empty string = True)\n",
        "bool_list = [bool(item) for item in str_list]\n",
        "print(\"List after converting to booleans:\", bool_list)\n"
      ],
      "metadata": {
        "colab": {
          "base_uri": "https://localhost:8080/"
        },
        "id": "diQdzmKz7qkr",
        "outputId": "82dadb0c-4c2b-462f-b9d4-b71787e460fa"
      },
      "execution_count": 53,
      "outputs": [
        {
          "output_type": "stream",
          "name": "stdout",
          "text": [
            "Original list (strings): ['10', '20', '30', '40.5', '50']\n",
            "List after converting to integers: [10, 20, 30, 40, 50]\n",
            "List after converting to floats: [10.0, 20.0, 30.0, 40.5, 50.0]\n",
            "List after converting to booleans: [True, True, True, True, True]\n"
          ]
        }
      ]
    },
    {
      "cell_type": "code",
      "source": [
        "#  Write a program that checks if a number is positive, negative, or zero.\n",
        "# Program to check if a number is positive, negative, or zero\n",
        "\n",
        "# Get input from the user\n",
        "num = float(input(\"Enter a number: \"))\n",
        "\n",
        "# Check the sign of the number\n",
        "if num > 0:\n",
        "    print(\"The number is positive.\")\n",
        "elif num < 0:\n",
        "    print(\"The number is negative.\")\n",
        "else:\n",
        "    print(\"The number is zero.\")\n"
      ],
      "metadata": {
        "colab": {
          "base_uri": "https://localhost:8080/"
        },
        "id": "BXzlosJn70DJ",
        "outputId": "c5b1d1d2-d1ca-4e21-afbc-de0b65ab4b43"
      },
      "execution_count": 54,
      "outputs": [
        {
          "output_type": "stream",
          "name": "stdout",
          "text": [
            "Enter a number: 6\n",
            "The number is positive.\n"
          ]
        }
      ]
    },
    {
      "cell_type": "code",
      "source": [
        "#  Write a for loop to print numbers from 1 to 10.\n",
        "# Program to print numbers from 1 to 10 using a for loop\n",
        "\n",
        "for i in range(1, 11):\n",
        "    print(i)\n"
      ],
      "metadata": {
        "colab": {
          "base_uri": "https://localhost:8080/"
        },
        "id": "1t2rMOKp8Cd9",
        "outputId": "af65fcc4-4305-4000-aeea-1f00b2501714"
      },
      "execution_count": 55,
      "outputs": [
        {
          "output_type": "stream",
          "name": "stdout",
          "text": [
            "1\n",
            "2\n",
            "3\n",
            "4\n",
            "5\n",
            "6\n",
            "7\n",
            "8\n",
            "9\n",
            "10\n"
          ]
        }
      ]
    },
    {
      "cell_type": "code",
      "source": [
        "# Write a Python program to find the sum of all even numbers between 1 and 50\n",
        "# Program to find the sum of all even numbers between 1 and 50\n",
        "\n",
        "sum_even = 0\n",
        "\n",
        "for i in range(1, 51):  # Loop from 1 to 50\n",
        "    if i % 2 == 0:      # Check if the number is even\n",
        "        sum_even += i\n",
        "\n",
        "print(\"The sum of all even numbers between 1 and 50 is:\", sum_even)\n"
      ],
      "metadata": {
        "colab": {
          "base_uri": "https://localhost:8080/"
        },
        "id": "wexRZx9Q8J-i",
        "outputId": "91ea2d01-4bfe-44ce-acbd-83b45f4dafb8"
      },
      "execution_count": 56,
      "outputs": [
        {
          "output_type": "stream",
          "name": "stdout",
          "text": [
            "The sum of all even numbers between 1 and 50 is: 650\n"
          ]
        }
      ]
    },
    {
      "cell_type": "code",
      "source": [
        "# Write a program to reverse a string using a while loop.\n",
        "# Program to reverse a string using a while loop\n",
        "\n",
        "# Get input from the user\n",
        "text = input(\"Enter a string: \")\n",
        "\n",
        "# Initialize an empty string to store the reversed version\n",
        "reversed_text = \"\"\n",
        "\n",
        "# Start from the last character\n",
        "i = len(text) - 1\n",
        "\n",
        "# Loop until the beginning of the string\n",
        "while i >= 0:\n",
        "    reversed_text += text[i]\n",
        "    i -= 1\n",
        "\n",
        "# Display the reversed string\n",
        "print(\"Reversed string:\", reversed_text)\n"
      ],
      "metadata": {
        "colab": {
          "base_uri": "https://localhost:8080/"
        },
        "id": "y7ll02Nh8R5A",
        "outputId": "95b162e7-fa57-4443-c188-bcaec03f29e2"
      },
      "execution_count": 57,
      "outputs": [
        {
          "output_type": "stream",
          "name": "stdout",
          "text": [
            "Enter a string: hello\n",
            "Reversed string: olleh\n"
          ]
        }
      ]
    },
    {
      "cell_type": "code",
      "source": [
        "# Write a Python program to calculate the factorial of a number provided by the user using a while loop\n",
        "# Program to calculate the factorial of a number using a while loop\n",
        "\n",
        "# Get input from the user\n",
        "num = int(input(\"Enter a number: \"))\n",
        "\n",
        "# Initialize variables\n",
        "factorial = 1\n",
        "i = 1\n",
        "\n",
        "# Check for negative input\n",
        "if num < 0:\n",
        "    print(\"Factorial is not defined for negative numbers.\")\n",
        "else:\n",
        "    # Use while loop to calculate factorial\n",
        "    while i <= num:\n",
        "        factorial *= i\n",
        "        i += 1\n",
        "\n",
        "    # Display the result\n",
        "    print(f\"The factorial of {num} is {factorial}\")\n"
      ],
      "metadata": {
        "colab": {
          "base_uri": "https://localhost:8080/"
        },
        "id": "m3RDTgNu80SE",
        "outputId": "c20b6497-1f28-44cd-cfa5-825b8e9a42d6"
      },
      "execution_count": 58,
      "outputs": [
        {
          "output_type": "stream",
          "name": "stdout",
          "text": [
            "Enter a number: 8\n",
            "The factorial of 8 is 40320\n"
          ]
        }
      ]
    }
  ]
}